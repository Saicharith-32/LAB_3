{
  "nbformat": 4,
  "nbformat_minor": 0,
  "metadata": {
    "colab": {
      "provenance": []
    },
    "kernelspec": {
      "name": "python3",
      "display_name": "Python 3"
    },
    "language_info": {
      "name": "python"
    }
  },
  "cells": [
    {
      "cell_type": "code",
      "execution_count": 17,
      "metadata": {
        "colab": {
          "base_uri": "https://localhost:8080/"
        },
        "id": "c6JgDraDRjQ5",
        "outputId": "73265805-a798-48dd-d4ff-9ec5192f99ba"
      },
      "outputs": [
        {
          "output_type": "stream",
          "name": "stdout",
          "text": [
            "Dimensionality of the vector space: 3\n",
            "Number of vectors in this vector space: 10\n",
            "Rank of Matrix A: 3\n",
            "Cost of each product:\n",
            "  - Candy: ₹1.00 per unit\n",
            "  - Mango: ₹55.00 per kg\n",
            "  - Milk Packet: ₹18.00 per unit\n"
          ]
        }
      ],
      "source": [
        "import pandas as pd\n",
        "import numpy as np\n",
        "\n",
        "file_path = \"Lab Session Data.xlsx\"\n",
        "\n",
        "\n",
        "xls = pd.ExcelFile(file_path)\n",
        "\n",
        "df = pd.read_excel(xls, sheet_name=\"Purchase data\")\n",
        "df_cleaned = df.iloc[:, :5]\n",
        "df_cleaned.columns = [\"Customer\", \"Candies\", \"Mangoes\", \"Milk Packets\", \"Payment\"]\n",
        "df_cleaned = df_cleaned.drop(columns=[\"Customer\"])\n",
        "\n",
        "A = df_cleaned.iloc[:, :-1].values\n",
        "C = df_cleaned.iloc[:, -1].values\n",
        "\n",
        "dimensionality = A.shape[1]\n",
        "num_vectors = A.shape[0]\n",
        "rank_A = np.linalg.matrix_rank(A)\n",
        "\n",
        "A_pinv = np.linalg.pinv(A)\n",
        "product_costs = A_pinv @ C\n",
        "\n",
        "print(f\"Dimensionality of the vector space: {dimensionality}\")\n",
        "print(f\"Number of vectors in this vector space: {num_vectors}\")\n",
        "print(f\"Rank of Matrix A: {rank_A}\")\n",
        "print(f\"Cost of each product:\")\n",
        "print(f\"  - Candy: ₹{product_costs[0]:.2f} per unit\")\n",
        "print(f\"  - Mango: ₹{product_costs[1]:.2f} per kg\")\n",
        "print(f\"  - Milk Packet: ₹{product_costs[2]:.2f} per unit\")\n",
        "\n",
        "\n"
      ]
    },
    {
      "cell_type": "code",
      "source": [
        "import pandas as pd\n",
        "import numpy as np\n",
        "\n",
        "file_path = \"Lab Session Data.xlsx\"\n",
        "xls = pd.ExcelFile(file_path)\n",
        "\n",
        "df = pd.read_excel(xls, sheet_name=\"Purchase data\")\n",
        "df_cleaned = df.iloc[:, :5]\n",
        "df_cleaned.columns = [\"Customer\", \"Candies\", \"Mangoes\", \"Milk Packets\", \"Payment\"]\n",
        "df_cleaned = df_cleaned.drop(columns=[\"Customer\"])\n",
        "\n",
        "A = df_cleaned.iloc[:, :-1].values\n",
        "C = df_cleaned.iloc[:, -1].values\n",
        "\n",
        "A_pinv = np.linalg.pinv(A)\n",
        "X = A_pinv @ C\n",
        "\n",
        "print(\"Model Vector X (Product Costs):\")\n",
        "print(f\"  - Candy: ₹{X[0]:.2f} per unit\")\n",
        "print(f\"  - Mango: ₹{X[1]:.2f} per kg\")\n",
        "print(f\"  - Milk Packet: ₹{X[2]:.2f} per unit\")\n"
      ],
      "metadata": {
        "colab": {
          "base_uri": "https://localhost:8080/"
        },
        "id": "lNjkQ8UNW8ZE",
        "outputId": "faaff020-410e-423e-f69e-3ae213aedfab"
      },
      "execution_count": 11,
      "outputs": [
        {
          "output_type": "stream",
          "name": "stdout",
          "text": [
            "Model Vector X (Product Costs):\n",
            "  - Candy: ₹1.00 per unit\n",
            "  - Mango: ₹55.00 per kg\n",
            "  - Milk Packet: ₹18.00 per unit\n"
          ]
        }
      ]
    },
    {
      "cell_type": "code",
      "source": [
        "import pandas as pd\n",
        "\n",
        "file_path = \"Lab Session Data.xlsx\"\n",
        "\n",
        "data = pd.read_excel(file_path, sheet_name=\"Purchase data\")\n",
        "\n",
        "data[\"Customer Type\"] = [\"RICH\" if amount > 200 else \"POOR\" for amount in data[\"Payment (Rs)\"]]\n",
        "\n",
        "print(data[[\"Customer\", \"Customer Type\"]])\n"
      ],
      "metadata": {
        "colab": {
          "base_uri": "https://localhost:8080/"
        },
        "id": "PAFzZ4MDZSe1",
        "outputId": "7ea2daf9-3e02-4486-ab03-138948804a1b"
      },
      "execution_count": 18,
      "outputs": [
        {
          "output_type": "stream",
          "name": "stdout",
          "text": [
            "  Customer Customer Type\n",
            "0      C_1          RICH\n",
            "1      C_2          RICH\n",
            "2      C_3          RICH\n",
            "3      C_4          POOR\n",
            "4      C_5          RICH\n",
            "5      C_6          POOR\n",
            "6      C_7          RICH\n",
            "7      C_8          RICH\n",
            "8      C_9          POOR\n",
            "9     C_10          POOR\n"
          ]
        }
      ]
    },
    {
      "cell_type": "code",
      "source": [
        "import pandas as pd\n",
        "import matplotlib.pyplot as plt\n",
        "import seaborn as sns\n",
        "\n",
        "file_path = \"Lab Session Data.xlsx\"\n",
        "data = pd.read_excel(file_path, sheet_name=\"thyroid0387_UCI\")\n",
        "\n",
        "print(data.head(), \"\\n\")\n",
        "print(\"Data Types:\\n\", data.dtypes, \"\\n\")\n",
        "\n",
        "cat_cols = data.select_dtypes(include=[\"object\"]).columns\n",
        "num_cols = data.select_dtypes(include=[\"number\"]).columns\n",
        "\n",
        "print(\"Categorical Columns:\\n\", cat_cols, \"\\n\")\n",
        "print(\"Numeric Range:\\n\", data[num_cols].agg(['min', 'max']), \"\\n\")\n",
        "\n",
        "print(\"Missing Values:\\n\", data.isnull().sum(), \"\\n\")\n",
        "\n",
        "plt.figure(figsize=(12, 6))\n",
        "sns.boxplot(data=data[num_cols])\n",
        "plt.xticks(rotation=45)\n",
        "plt.title(\"Boxplot to Detect Outliers\")\n",
        "plt.show()\n",
        "\n",
        "print(\"Mean:\\n\", data[num_cols].mean(), \"\\n\")\n",
        "print(\"Standard Deviation:\\n\", data[num_cols].std())\n"
      ],
      "metadata": {
        "colab": {
          "base_uri": "https://localhost:8080/",
          "height": 1000
        },
        "id": "0HfhMlAbZYzX",
        "outputId": "f22706e0-4a1e-49ed-d529-a0b50dc5fc16"
      },
      "execution_count": 19,
      "outputs": [
        {
          "output_type": "stream",
          "name": "stdout",
          "text": [
            "   Record ID  age sex on thyroxine query on thyroxine  \\\n",
            "0  840801013   29   F            f                  f   \n",
            "1  840801014   29   F            f                  f   \n",
            "2  840801042   41   F            f                  f   \n",
            "3  840803046   36   F            f                  f   \n",
            "4  840803047   32   F            f                  f   \n",
            "\n",
            "  on antithyroid medication sick pregnant thyroid surgery I131 treatment  ...  \\\n",
            "0                         f    f        f               f              f  ...   \n",
            "1                         f    f        f               f              f  ...   \n",
            "2                         f    f        f               f              f  ...   \n",
            "3                         f    f        f               f              f  ...   \n",
            "4                         f    f        f               f              f  ...   \n",
            "\n",
            "  TT4 measured  TT4 T4U measured T4U FTI measured FTI TBG measured TBG  \\\n",
            "0            f    ?            f   ?            f   ?            f   ?   \n",
            "1            t  128            f   ?            f   ?            f   ?   \n",
            "2            f    ?            f   ?            f   ?            t  11   \n",
            "3            f    ?            f   ?            f   ?            t  26   \n",
            "4            f    ?            f   ?            f   ?            t  36   \n",
            "\n",
            "  referral source     Condition  \n",
            "0           other  NO CONDITION  \n",
            "1           other  NO CONDITION  \n",
            "2           other  NO CONDITION  \n",
            "3           other  NO CONDITION  \n",
            "4           other             S  \n",
            "\n",
            "[5 rows x 31 columns] \n",
            "\n",
            "Data Types:\n",
            " Record ID                     int64\n",
            "age                           int64\n",
            "sex                          object\n",
            "on thyroxine                 object\n",
            "query on thyroxine           object\n",
            "on antithyroid medication    object\n",
            "sick                         object\n",
            "pregnant                     object\n",
            "thyroid surgery              object\n",
            "I131 treatment               object\n",
            "query hypothyroid            object\n",
            "query hyperthyroid           object\n",
            "lithium                      object\n",
            "goitre                       object\n",
            "tumor                        object\n",
            "hypopituitary                object\n",
            "psych                        object\n",
            "TSH measured                 object\n",
            "TSH                          object\n",
            "T3 measured                  object\n",
            "T3                           object\n",
            "TT4 measured                 object\n",
            "TT4                          object\n",
            "T4U measured                 object\n",
            "T4U                          object\n",
            "FTI measured                 object\n",
            "FTI                          object\n",
            "TBG measured                 object\n",
            "TBG                          object\n",
            "referral source              object\n",
            "Condition                    object\n",
            "dtype: object \n",
            "\n",
            "Categorical Columns:\n",
            " Index(['sex', 'on thyroxine', 'query on thyroxine',\n",
            "       'on antithyroid medication', 'sick', 'pregnant', 'thyroid surgery',\n",
            "       'I131 treatment', 'query hypothyroid', 'query hyperthyroid', 'lithium',\n",
            "       'goitre', 'tumor', 'hypopituitary', 'psych', 'TSH measured', 'TSH',\n",
            "       'T3 measured', 'T3', 'TT4 measured', 'TT4', 'T4U measured', 'T4U',\n",
            "       'FTI measured', 'FTI', 'TBG measured', 'TBG', 'referral source',\n",
            "       'Condition'],\n",
            "      dtype='object') \n",
            "\n",
            "Numeric Range:\n",
            "      Record ID    age\n",
            "min  840801013      1\n",
            "max  870119035  65526 \n",
            "\n",
            "Missing Values:\n",
            " Record ID                    0\n",
            "age                          0\n",
            "sex                          0\n",
            "on thyroxine                 0\n",
            "query on thyroxine           0\n",
            "on antithyroid medication    0\n",
            "sick                         0\n",
            "pregnant                     0\n",
            "thyroid surgery              0\n",
            "I131 treatment               0\n",
            "query hypothyroid            0\n",
            "query hyperthyroid           0\n",
            "lithium                      0\n",
            "goitre                       0\n",
            "tumor                        0\n",
            "hypopituitary                0\n",
            "psych                        0\n",
            "TSH measured                 0\n",
            "TSH                          0\n",
            "T3 measured                  0\n",
            "T3                           0\n",
            "TT4 measured                 0\n",
            "TT4                          0\n",
            "T4U measured                 0\n",
            "T4U                          0\n",
            "FTI measured                 0\n",
            "FTI                          0\n",
            "TBG measured                 0\n",
            "TBG                          0\n",
            "referral source              0\n",
            "Condition                    0\n",
            "dtype: int64 \n",
            "\n"
          ]
        },
        {
          "output_type": "display_data",
          "data": {
            "text/plain": [
              "<Figure size 1200x600 with 1 Axes>"
            ],
            "image/png": "[encoded data removed]"
          },
          "metadata": {}
        },
        {
          "output_type": "stream",
          "name": "stdout",
          "text": [
            "Mean:\n",
            " Record ID    8.529473e+08\n",
            "age          7.355582e+01\n",
            "dtype: float64 \n",
            "\n",
            "Standard Deviation:\n",
            " Record ID    7.581969e+06\n",
            "age          1.183977e+03\n",
            "dtype: float64\n"
          ]
        }
      ]
    }
  ]
}